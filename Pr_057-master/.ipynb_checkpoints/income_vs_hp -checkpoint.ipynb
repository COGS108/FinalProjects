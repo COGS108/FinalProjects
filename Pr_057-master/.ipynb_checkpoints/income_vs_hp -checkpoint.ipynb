{
 "cells": [
  {
   "cell_type": "markdown",
   "metadata": {},
   "source": [
    "# Housing Prices Compared with Income"
   ]
  },
  {
   "cell_type": "markdown",
   "metadata": {},
   "source": [
    "Notebook by Lauren Liao based on a notebook by Abena Bonsu"
   ]
  },
  {
   "cell_type": "markdown",
   "metadata": {},
   "source": [
    "Goal is to figure out:\n",
    "1. how many places can each income braket can afford?\n",
    "2. where are these areas?"
   ]
  },
  {
   "cell_type": "markdown",
   "metadata": {},
   "source": [
    "Rules of Thumb For How Much House You Can Afford on good credit:\n",
    "1. According to CNN Money says 2.5 times of gross annual income\n",
    "2. Washington Mutual Bank suggested up to 4-5 times (without debt)\n",
    "3. Investopedia offers up 2 to 2.5 times of gross annual income\n",
    "\n",
    "Here we are using 2.5 times for general rule of thumb."
   ]
  },
  {
   "cell_type": "code",
   "execution_count": 2,
   "metadata": {
    "collapsed": false
   },
   "outputs": [],
   "source": [
    "# imports\n",
    "import numpy as np\n",
    "import pandas as pd\n",
    "import scipy as sp\n",
    "import scipy.io as io\n",
    "import scipy.signal as sig\n",
    "import math as math\n",
    "import random \n",
    "from scipy import integrate\n",
    "import matplotlib.pyplot as plt\n",
    "from mpl_toolkits.mplot3d import Axes3D\n",
    "import h5py\n",
    "%matplotlib inline\n",
    "import pprint as pp\n",
    "plt.style.use('seaborn-colorblind')\n",
    "plt.rcParams['image.cmap'] = 'RdBu'"
   ]
  },
  {
   "cell_type": "code",
   "execution_count": 14,
   "metadata": {
    "collapsed": false
   },
   "outputs": [],
   "source": [
    "# area reference according to indicies \n",
    "area = ['Alpine','Bonita','Boulevard','Campo','Chula_Vista','Chula_Vista','Chula_Vista','Chula_Vista','Chula_Vista','Descanso','Dulzura','Imperial_Beach','Jacumba_Hot_Springs','Jamul','La_Mesa','La_Mesa','Lemon_Grove','National_City','Pine_Valley','Potrero','Spring_Valley','Spring_Valley','Bonsall','Borrego_Springs','Cardiff','Carlsbad','Carlsbad','Carlsbad','Carlsbad','Del_Mar','El_Cajon','El_Cajon','El_Cajon','Encinitas','Escondido','Escondido','Escondido','Fallbrook','Escondido','Julian','La_Jolla','Lakeside','Oceanside','Oceanside','Oceanside','Oceanside','Pala','Pauma_Valley','Poway','Ramona','Ranchita','Rancho_Santa_Fe','San_Marcos','Santa_Ysabel','Santee','Solana_Beach','San_Marcos','Vista','Valley_Center','Vista','Vista','Warner_Springs','Rancho_Santa_Fe','Gaslamp','Golden_Hill','Hillcrest','North_Park','Oak_Park','Wooded_Area','Ocean_Beach','Mission_Valley_East','Mission_Beach','Old_Town','Clairemont_Mesa_East','Barrio_Logan','Encanto','El_Cerrito','Normal_Heights','North_Clairemont','Coronado','San_Carlos','Del_Cerro','Sorrento_Valley','University_City','Serra_Mesa','Tierrasanta','Mira_Mesa','Black_Mountain_Ranch','Carmel_Mountain','Rancho_Penasquitos','Carmel_Valley','Scipps_Ranch','Paradise_Hills','Otay_Mesa','San_Ysidro']"
   ]
  },
  {
   "cell_type": "code",
   "execution_count": 15,
   "metadata": {
    "collapsed": false
   },
   "outputs": [
    {
     "data": {
      "text/html": [
       "<div>\n",
       "<table border=\"1\" class=\"dataframe\">\n",
       "  <thead>\n",
       "    <tr style=\"text-align: right;\">\n",
       "      <th></th>\n",
       "      <th>year</th>\n",
       "      <th>Low Income</th>\n",
       "      <th>Very Low Income</th>\n",
       "      <th>Lowest Income</th>\n",
       "      <th>Median Income</th>\n",
       "    </tr>\n",
       "  </thead>\n",
       "  <tbody>\n",
       "    <tr>\n",
       "      <th>0</th>\n",
       "      <td>2007</td>\n",
       "      <td>57556.2</td>\n",
       "      <td>35975.0</td>\n",
       "      <td>21581.2</td>\n",
       "      <td>69400</td>\n",
       "    </tr>\n",
       "    <tr>\n",
       "      <th>1</th>\n",
       "      <td>2008</td>\n",
       "      <td>64775.0</td>\n",
       "      <td>40487.5</td>\n",
       "      <td>24300.0</td>\n",
       "      <td>72100</td>\n",
       "    </tr>\n",
       "    <tr>\n",
       "      <th>2</th>\n",
       "      <td>2009</td>\n",
       "      <td>67756.2</td>\n",
       "      <td>42325.0</td>\n",
       "      <td>25418.8</td>\n",
       "      <td>74900</td>\n",
       "    </tr>\n",
       "    <tr>\n",
       "      <th>3</th>\n",
       "      <td>2010</td>\n",
       "      <td>64387.5</td>\n",
       "      <td>40250.0</td>\n",
       "      <td>24156.2</td>\n",
       "      <td>75500</td>\n",
       "    </tr>\n",
       "    <tr>\n",
       "      <th>4</th>\n",
       "      <td>2011</td>\n",
       "      <td>67150.0</td>\n",
       "      <td>42006.2</td>\n",
       "      <td>25181.2</td>\n",
       "      <td>74900</td>\n",
       "    </tr>\n",
       "    <tr>\n",
       "      <th>5</th>\n",
       "      <td>2012</td>\n",
       "      <td>65875.0</td>\n",
       "      <td>41175.0</td>\n",
       "      <td>24725.0</td>\n",
       "      <td>75900</td>\n",
       "    </tr>\n",
       "  </tbody>\n",
       "</table>\n",
       "</div>"
      ],
      "text/plain": [
       "   year  Low Income  Very Low Income  Lowest Income  Median Income\n",
       "0  2007     57556.2          35975.0        21581.2          69400\n",
       "1  2008     64775.0          40487.5        24300.0          72100\n",
       "2  2009     67756.2          42325.0        25418.8          74900\n",
       "3  2010     64387.5          40250.0        24156.2          75500\n",
       "4  2011     67150.0          42006.2        25181.2          74900\n",
       "5  2012     65875.0          41175.0        24725.0          75900"
      ]
     },
     "execution_count": 15,
     "metadata": {},
     "output_type": "execute_result"
    }
   ],
   "source": [
    "# income sorted by Abena\n",
    "in_df = pd.read_csv('income.csv')\n",
    "in_df"
   ]
  },
  {
   "cell_type": "code",
   "execution_count": 16,
   "metadata": {
    "collapsed": false
   },
   "outputs": [],
   "source": [
    "# Grab Housing Data\n",
    "with h5py.File(h5_file, 'r') as h5:\n",
    "    dset = h5['hp']\n",
    "    hp = []\n",
    "    hp.append(dset[:][:])"
   ]
  },
  {
   "cell_type": "markdown",
   "metadata": {},
   "source": [
    "## 1. how many places can each income braket can afford?"
   ]
  },
  {
   "cell_type": "markdown",
   "metadata": {},
   "source": [
    "To look at how many places each income braket can afford, we first find the amount for each year taking the difference between average prices and 2.5 times the annual income. "
   ]
  },
  {
   "cell_type": "code",
   "execution_count": 17,
   "metadata": {
    "collapsed": false
   },
   "outputs": [],
   "source": [
    "# amount of places people can afford; int year, String ieb = income estimate braket\n",
    "def num_aff(year, ieb):\n",
    "    lst = [x for x in hp[0][year-2007]-in_df[ieb][year-2007]*2.5 < 0]\n",
    "    lst.sort()\n",
    "    num = 0\n",
    "    for x in lst:\n",
    "        if x == True:\n",
    "            num += 1\n",
    "    return num"
   ]
  },
  {
   "cell_type": "code",
   "execution_count": 18,
   "metadata": {
    "collapsed": false
   },
   "outputs": [],
   "source": [
    "# median income number of places can afford\n",
    "med_nh = []\n",
    "for yr in in_df['year']:\n",
    "    med_nh.append(num_aff(yr,'Median Income'))\n",
    "    \n",
    "# low income income number of places can afford\n",
    "low_nh = []\n",
    "for yr in in_df['year']:\n",
    "    low_nh.append(num_aff(yr,'Low Income'))\n",
    "    \n",
    "# very low income number of places can afford\n",
    "vlow_nh = []\n",
    "for yr in in_df['year']:\n",
    "    vlow_nh.append(num_aff(yr,'Very Low Income'))\n",
    "    \n",
    "# lowest income number of places can afford\n",
    "lowest_nh = []\n",
    "for yr in in_df['year']:\n",
    "    lowest_nh.append(num_aff(yr,'Lowest Income'))"
   ]
  },
  {
   "cell_type": "code",
   "execution_count": 19,
   "metadata": {
    "collapsed": false
   },
   "outputs": [
    {
     "name": "stdout",
     "output_type": "stream",
     "text": [
      "median income number of places can afford: \n",
      "[0, 3, 11, 8, 10, 8]\n",
      "low income number of places can afford: \n",
      "[0, 2, 6, 8, 8, 6]\n",
      "very low income number of places can afford: \n",
      "[0, 1, 1, 2, 2, 1]\n",
      "lowest income number of places can afford: \n",
      "[0, 0, 1, 0, 0, 1]\n"
     ]
    }
   ],
   "source": [
    "# examine the number of homes we can afford\n",
    "print(\"median income number of places can afford: \") \n",
    "print(med_nh)\n",
    "print(\"low income number of places can afford: \") \n",
    "print(low_nh)\n",
    "print(\"very low income number of places can afford: \") \n",
    "print(vlow_nh)\n",
    "print(\"lowest income number of places can afford: \") \n",
    "print(lowest_nh)"
   ]
  },
  {
   "cell_type": "markdown",
   "metadata": {},
   "source": [
    "## 2. What areas can we afford?"
   ]
  },
  {
   "cell_type": "markdown",
   "metadata": {},
   "source": [
    "Wow! we see that even for someone in the lowest income bracket, there is still two areas (corresponding to zipcode) they can afford! \n",
    "\n",
    "*Let's find out what these areas are!*"
   ]
  },
  {
   "cell_type": "code",
   "execution_count": 20,
   "metadata": {
    "collapsed": false
   },
   "outputs": [],
   "source": [
    "# area given braket in given year\n",
    "def a_aff(year, ieb):\n",
    "    if True in (hp[0][year-2007] - in_df[ieb][year-2007]*2.5 < 0):\n",
    "        lst = [x for x in (hp[0][year-2007] - in_df[ieb][year-2007]*2.5 <0)]\n",
    "        indx = [i for i, x in enumerate(lst) if x == True]\n",
    "        return [area[x] for x in indx]"
   ]
  },
  {
   "cell_type": "code",
   "execution_count": 21,
   "metadata": {
    "collapsed": false
   },
   "outputs": [],
   "source": [
    "# median income afforable areas\n",
    "med_a = []\n",
    "for yr in in_df['year']:\n",
    "    med_a.append(a_aff(yr,'Median Income'))\n",
    "    \n",
    "# low income afforable areas\n",
    "low_a = []\n",
    "for yr in in_df['year']:\n",
    "    low_a.append(a_aff(yr,'Low Income'))\n",
    "    \n",
    "# very low income afforable areas\n",
    "vlow_a = []\n",
    "for yr in in_df['year']:\n",
    "    vlow_a.append(a_aff(yr,'Very Low Income'))\n",
    "\n",
    "# lowest income afforable areas\n",
    "lowest_a = []\n",
    "for yr in in_df['year']:\n",
    "    lowest_a.append(a_aff(yr,'Lowest Income'))"
   ]
  },
  {
   "cell_type": "code",
   "execution_count": 22,
   "metadata": {
    "collapsed": false
   },
   "outputs": [
    {
     "name": "stdout",
     "output_type": "stream",
     "text": [
      "median income afforable areas: \n",
      "[None, ['Boulevard', 'Jacumba_Hot_Springs', 'Potrero'], ['Boulevard', 'Campo', 'Dulzura', 'Jacumba_Hot_Springs', 'National_City', 'Borrego_Springs', 'Ranchita', 'Golden_Hill', 'Oak_Park', 'Barrio_Logan', 'San_Ysidro'], ['Boulevard', 'Campo', 'Jacumba_Hot_Springs', 'Potrero', 'Borrego_Springs', 'Ranchita', 'Barrio_Logan', 'San_Ysidro'], ['Boulevard', 'Campo', 'Jacumba_Hot_Springs', 'Borrego_Springs', 'Ranchita', 'Warner_Springs', 'Golden_Hill', 'Oak_Park', 'Barrio_Logan', 'San_Ysidro'], ['Boulevard', 'Campo', 'Jacumba_Hot_Springs', 'Potrero', 'Borrego_Springs', 'Ranchita', 'Warner_Springs', 'Barrio_Logan']]\n",
      "low income afforable areas: \n",
      "[None, ['Boulevard', 'Jacumba_Hot_Springs'], ['Campo', 'Jacumba_Hot_Springs', 'Borrego_Springs', 'Ranchita', 'Oak_Park', 'Barrio_Logan'], ['Boulevard', 'Campo', 'Jacumba_Hot_Springs', 'Potrero', 'Borrego_Springs', 'Ranchita', 'Barrio_Logan', 'San_Ysidro'], ['Boulevard', 'Campo', 'Jacumba_Hot_Springs', 'Borrego_Springs', 'Ranchita', 'Warner_Springs', 'Barrio_Logan', 'San_Ysidro'], ['Boulevard', 'Campo', 'Jacumba_Hot_Springs', 'Borrego_Springs', 'Ranchita', 'Warner_Springs']]\n",
      "very low income afforable areas: \n",
      "[None, ['Jacumba_Hot_Springs'], ['Jacumba_Hot_Springs'], ['Jacumba_Hot_Springs', 'Potrero'], ['Boulevard', 'Jacumba_Hot_Springs'], ['Jacumba_Hot_Springs']]\n",
      "lowest income afforable areas: \n",
      "[None, None, ['Jacumba_Hot_Springs'], None, None, ['Jacumba_Hot_Springs']]\n"
     ]
    }
   ],
   "source": [
    "# examine the where the homes are we can afford\n",
    "print(\"median income afforable areas: \") \n",
    "print(med_a)\n",
    "print(\"low income afforable areas: \") \n",
    "print(low_a)\n",
    "print(\"very low income afforable areas: \") \n",
    "print(vlow_a)\n",
    "print(\"lowest income afforable areas: \") \n",
    "print(lowest_a)"
   ]
  },
  {
   "cell_type": "markdown",
   "metadata": {},
   "source": [
    "Let's separate them out by year!"
   ]
  },
  {
   "cell_type": "code",
   "execution_count": 23,
   "metadata": {
    "collapsed": false
   },
   "outputs": [],
   "source": [
    "# in 2007 separated by lowest income to median area\n",
    "nh07 = [lowest_nh[0],vlow_nh[0],low_nh[0],med_nh[0]]\n",
    "a07 = [lowest_a[0],vlow_a[0],low_a[0],med_a[0]]\n",
    "\n",
    "# in 2008 separated by lowest income to median area\n",
    "nh08 = [lowest_nh[1],vlow_nh[1],low_nh[1],med_nh[1]]\n",
    "a08 = [lowest_a[1],vlow_a[1],low_a[1],med_a[1]]\n",
    "\n",
    "# in 2009 separated by lowest income to median area\n",
    "nh09 = [lowest_nh[2],vlow_nh[2],low_nh[2],med_nh[2]]\n",
    "a09 = [lowest_a[2],vlow_a[2],low_a[2],med_a[2]]\n",
    "\n",
    "# in 2010 separated by lowest income to median area\n",
    "nh10 = [lowest_nh[3],vlow_nh[3],low_nh[3],med_nh[3]]\n",
    "a10 = [lowest_a[3],vlow_a[3],low_a[3],med_a[3]]\n",
    "\n",
    "# in 2011 separated by lowest income to median area\n",
    "nh11 = [lowest_nh[4],vlow_nh[4],low_nh[4],med_nh[4]]\n",
    "a11 = [lowest_a[4],vlow_a[4],low_a[4],med_a[4]]\n",
    "\n",
    "# in 2012 separated by lowest income to median area\n",
    "nh12 = [lowest_nh[5],vlow_nh[5],low_nh[5],med_nh[5]]\n",
    "a12 = [lowest_a[5],vlow_a[5],low_a[5],med_a[5]]"
   ]
  },
  {
   "cell_type": "markdown",
   "metadata": {},
   "source": [
    "Let's examine the by year!"
   ]
  },
  {
   "cell_type": "code",
   "execution_count": 24,
   "metadata": {
    "collapsed": false
   },
   "outputs": [
    {
     "name": "stdout",
     "output_type": "stream",
     "text": [
      "('In 2007 there is total of 0 places that people in low incomes can afford and '\n",
      " 'there is 0 places that the median income people can afford.')\n",
      "('In 2008 there is total of 2 places that people in low incomes can afford and '\n",
      " 'there is 3 places that the median income people can afford.')\n",
      "('In 2009 there is total of 6 places that people in low incomes can afford and '\n",
      " 'there is 11 places that the median income people can afford.')\n",
      "('In 2010 there is total of 8 places that people in low incomes can afford and '\n",
      " 'there is 8 places that the median income people can afford.')\n",
      "('In 2011 there is total of 8 places that people in low incomes can afford and '\n",
      " 'there is 10 places that the median income people can afford.')\n",
      "('In 2012 there is total of 6 places that people in low incomes can afford and '\n",
      " 'there is 8 places that the median income people can afford.')\n"
     ]
    }
   ],
   "source": [
    "pp.pprint(\"In 2007 there is total of \" + str((nh07[2])) + \" places that people in low incomes can afford and there is \" + str(nh07[3]) + \" places that the median income people can afford.\")\n",
    "pp.pprint(\"In 2008 there is total of \" + str((nh08[2])) + \" places that people in low incomes can afford and there is \" + str(nh08[3]) + \" places that the median income people can afford.\")\n",
    "pp.pprint(\"In 2009 there is total of \" + str((nh09[2])) + \" places that people in low incomes can afford and there is \" + str(nh09[3]) + \" places that the median income people can afford.\")\n",
    "pp.pprint(\"In 2010 there is total of \" + str((nh10[2])) + \" places that people in low incomes can afford and there is \" + str(nh10[3]) + \" places that the median income people can afford.\")\n",
    "pp.pprint(\"In 2011 there is total of \" + str((nh11[2])) + \" places that people in low incomes can afford and there is \" + str(nh11[3]) + \" places that the median income people can afford.\")\n",
    "pp.pprint(\"In 2012 there is total of \" + str((nh12[2])) + \" places that people in low incomes can afford and there is \" + str(nh12[3]) + \" places that the median income people can afford.\")\n"
   ]
  },
  {
   "cell_type": "code",
   "execution_count": 25,
   "metadata": {
    "collapsed": true
   },
   "outputs": [],
   "source": [
    "# method to help label values inside graph\n",
    "def autolabel(rects):\n",
    "    for rect in rects:\n",
    "        h = rect.get_height()\n",
    "        ax.text(rect.get_x()+rect.get_width()/2., 1.05*h, '%d'%int(h),\n",
    "                ha='center', va='bottom')"
   ]
  },
  {
   "cell_type": "code",
   "execution_count": 26,
   "metadata": {
    "collapsed": false
   },
   "outputs": [
    {
     "data": {
      "image/png": "[encoded data removed]",
      "text/plain": [
       "<matplotlib.figure.Figure at 0x2c3e1092f60>"
      ]
     },
     "metadata": {},
     "output_type": "display_data"
    }
   ],
   "source": [
    "# Create multi bar graph to display information compare 2007 and 2012\n",
    "N = 4\n",
    "ind = np.arange(N)\n",
    "width = .12\n",
    "\n",
    "fig = plt.figure(1,figsize=(15,5))\n",
    "ax = fig.add_subplot(111)\n",
    "\n",
    "# 2007\n",
    "nh07R = ax.bar(ind, nh07, width, color='b')\n",
    "\n",
    "# 2008\n",
    "nh08R = ax.bar(ind+width, nh08, width, color='m')\n",
    "\n",
    "# 2009\n",
    "nh09R = ax.bar(ind+width*2, nh09, width, color='r')\n",
    "\n",
    "# 2010\n",
    "nh10R = ax.bar(ind+width*3, nh10, width, color='y')\n",
    "\n",
    "# 2011\n",
    "nh11R = ax.bar(ind+width*4, nh11, width, color='g')\n",
    "\n",
    "# 2007\n",
    "nh12R = ax.bar(ind+width*5, nh12, width, color='c')\n",
    "\n",
    "ax.set_ylabel('Number of areas can afford based on zipcode')\n",
    "ax.set_xlabel('Income Braket')\n",
    "ax.set_xticklabels(('Lowest income', 'Very Low Income', 'Low Income', 'Median Income'))\n",
    "ax.set_xticks(ind+width)\n",
    "\n",
    "ax.legend( (nh07R[0], nh08R[0], nh09R[0], nh10R[0], nh11R[0], nh12R[0]), \n",
    "          (in_df['year']) )\n",
    "plt.ylim([0,15])\n",
    "\n",
    "# label values in bar graph\n",
    "autolabel(nh07R)\n",
    "autolabel(nh08R)\n",
    "autolabel(nh09R)\n",
    "autolabel(nh10R)\n",
    "autolabel(nh11R)\n",
    "autolabel(nh12R)\n",
    "\n",
    "#plt.figure(1, figsize=(20,10))\n",
    "plt.title(\"Comparing years and number of homes affordable\")\n",
    "plt.show()"
   ]
  },
  {
   "cell_type": "code",
   "execution_count": 27,
   "metadata": {
    "collapsed": false
   },
   "outputs": [
    {
     "data": {
      "text/plain": [
       "4"
      ]
     },
     "execution_count": 27,
     "metadata": {},
     "output_type": "execute_result"
    }
   ],
   "source": [
    "len(nh07)"
   ]
  },
  {
   "cell_type": "code",
   "execution_count": 28,
   "metadata": {
    "collapsed": false
   },
   "outputs": [],
   "source": [
    "# clean out the None\n",
    "med_a = [x for x in med_a if x != None]\n",
    "low_a = [x for x in low_a if x != None]\n",
    "vlow_a = [x for x in vlow_a if x != None]\n",
    "lowest_a = [x for x in lowest_a if x != None]"
   ]
  },
  {
   "cell_type": "markdown",
   "metadata": {},
   "source": [
    "## 3. other exploratory data for housing prices"
   ]
  },
  {
   "cell_type": "code",
   "execution_count": 29,
   "metadata": {
    "collapsed": false
   },
   "outputs": [
    {
     "data": {
      "image/png": "[encoded data removed]",
      "text/plain": [
       "<matplotlib.figure.Figure at 0x2c3e0a31e80>"
      ]
     },
     "metadata": {},
     "output_type": "display_data"
    }
   ],
   "source": [
    "#load data from h5 \n",
    "h5_file = '../cogs108/cogs108.h5'\n",
    "#reading data\n",
    "with h5py.File(h5_file, 'r') as h5:\n",
    "    dset = h5['hp']\n",
    "    #_ = plt.plot(dset[:][:])\n",
    "    plt.xlabel('years since 2007')\n",
    "    plt.ylabel('average sales price, all homes')\n",
    "    plt.title('')\n",
    "    _ = plt.plot(dset[:][:])"
   ]
  },
  {
   "cell_type": "code",
   "execution_count": 30,
   "metadata": {
    "collapsed": false
   },
   "outputs": [
    {
     "data": {
      "image/png": "[encoded data removed]",
      "text/plain": [
       "<matplotlib.figure.Figure at 0x2c3e12d1128>"
      ]
     },
     "metadata": {},
     "output_type": "display_data"
    }
   ],
   "source": [
    "plt.title(\"Housing prices 2007 vs 2012\")\n",
    "plt.xlabel(\"average housing prices\")\n",
    "plt.ylabel(\"frequency\")\n",
    "#plt.hist(data[0][1])\n",
    "#plt.hist(data[0][2])\n",
    "#plt.hist(data[0][3])\n",
    "#plt.hist(data[0][4])\n",
    "hist07 = plt.hist(hp[0][0],label = '2007',color = 'y')\n",
    "hist12 = plt.hist(hp[0][5],label = '2012',color = 'b')"
   ]
  },
  {
   "cell_type": "code",
   "execution_count": 31,
   "metadata": {
    "collapsed": false
   },
   "outputs": [
    {
     "data": {
      "image/png": "[encoded data removed]",
      "text/plain": [
       "<matplotlib.figure.Figure at 0x2c3e12ca0f0>"
      ]
     },
     "metadata": {},
     "output_type": "display_data"
    }
   ],
   "source": [
    "# Create multi bar graph to display information compare 2007 and 2012\n",
    "N = 95\n",
    "ind = np.arange(N)\n",
    "width = .66\n",
    "\n",
    "fig = plt.figure(1,figsize=(20,8))\n",
    "ax = fig.add_subplot(111)\n",
    "\n",
    "# 2007\n",
    "hp07Rect = ax.bar(ind, hp[0][0], width, color='b')\n",
    "\n",
    "# 2012\n",
    "hp12Rect = ax.bar(ind, hp[0][5], width, color='y')\n",
    "\n",
    "ax.set_ylabel('Housing Prices')\n",
    "ax.set_xlabel('Area')\n",
    "ax.set_xticks(ind)\n",
    "#ax.set_xticklabels(np.arange(95))\n",
    "#ax.legend( (canAffordRect[0], medianIncomeRect[0]), \n",
    "#          ('Very Low Income', 'Median Income') )\n",
    "plt.ylim([0,2700000])\n",
    "\n",
    "# label values in bar graph\n",
    "#autolabel(hp07Rect)\n",
    "#autolabel(hp12Rect)\n",
    "\n",
    "#plt.figure(1, figsize=(20,10))\n",
    "plt.title(\"Comparing 2007 and 2012 Housing Prices\")\n",
    "plt.show()"
   ]
  },
  {
   "cell_type": "markdown",
   "metadata": {},
   "source": [
    "## 5. 2012 Comparison Area specific to demographic data"
   ]
  },
  {
   "cell_type": "code",
   "execution_count": 32,
   "metadata": {
    "collapsed": false
   },
   "outputs": [
    {
     "data": {
      "image/png": "[encoded data removed]",
      "text/plain": [
       "<matplotlib.figure.Figure at 0x2c3e10751d0>"
      ]
     },
     "metadata": {},
     "output_type": "display_data"
    }
   ],
   "source": [
    "with h5py.File(h5_file, 'r') as h5:\n",
    "    dset = h5['hp_pop_new']\n",
    "    plt.hist(dset)\n",
    "    plt.xlabel('average sales price, all homes')\n",
    "    plt.ylabel('frequency')\n",
    "    plt.title('2012 Data on Specific neighborhoods based on population data')\n",
    "    data2012 = []\n",
    "    data2012.append(dset[:])"
   ]
  },
  {
   "cell_type": "code",
   "execution_count": 33,
   "metadata": {
    "collapsed": false
   },
   "outputs": [
    {
     "data": {
      "text/plain": [
       "array([ 509625,  581250,  477833,  659146,  342667,  304417,  296708,\n",
       "        239542,  384646,  352854,  259258,  380833,  208396,  289229,\n",
       "        254062,  333125,  467042,  327938,  431125,  248667,  307292,\n",
       "        246667,  401667,  278812,  299667,  272917,  265500,  340107,\n",
       "        291958,  380250,  279023,  451062,  286958,  297875,  265375,\n",
       "        484125, 1993958,  828458,  338625,  337292], dtype=int64)"
      ]
     },
     "execution_count": 33,
     "metadata": {},
     "output_type": "execute_result"
    }
   ],
   "source": [
    "data2012[0][0]"
   ]
  },
  {
   "cell_type": "code",
   "execution_count": 34,
   "metadata": {
    "collapsed": false
   },
   "outputs": [],
   "source": [
    "area_2012 =['Carlsbad',\n",
    " 'Carlsbad',\n",
    " 'Carlsbad',\n",
    " 'Carlsbad',\n",
    " 'Oceanside',\n",
    " 'Oceanside',\n",
    " 'Oceanside',\n",
    " 'Oceanside',\n",
    " 'Vista',\n",
    " 'Vista',\n",
    " 'Vista',\n",
    " 'Coronado',\n",
    " 'National_City',\n",
    " 'Chula_Vista',\n",
    " 'Chula_Vista',\n",
    " 'Chula_Vista',\n",
    " 'Chula_Vista',\n",
    " 'Chula_Vista',\n",
    " 'Jamul',\n",
    " 'Spring_Valley',\n",
    " 'Spring_Valley',\n",
    " 'Lemon_Grove',\n",
    " 'La_Mesa',\n",
    " 'La_Mesa',\n",
    " 'El_Cajon',\n",
    " 'El_Cajon',\n",
    " 'El_Cajon',\n",
    " 'Santee',\n",
    " 'Lakeside',\n",
    " 'Alpine',\n",
    " 'Poway',\n",
    " 'Ramona',\n",
    " 'Escondido',\n",
    " 'Escondido',\n",
    " 'Escondido',\n",
    " 'Escondido',\n",
    " 'San_Marcos',\n",
    " 'San_Marcos',\n",
    " 'Valley_Center',\n",
    " 'Fallbrook']"
   ]
  },
  {
   "cell_type": "code",
   "execution_count": 35,
   "metadata": {
    "collapsed": false
   },
   "outputs": [
    {
     "data": {
      "text/plain": [
       "40"
      ]
     },
     "execution_count": 35,
     "metadata": {},
     "output_type": "execute_result"
    }
   ],
   "source": [
    "len(area_2012)"
   ]
  },
  {
   "cell_type": "code",
   "execution_count": 36,
   "metadata": {
    "collapsed": false
   },
   "outputs": [],
   "source": [
    "med12 = in_df['Median Income'][5]\n",
    "low12 = in_df['Low Income'][5]"
   ]
  },
  {
   "cell_type": "code",
   "execution_count": 37,
   "metadata": {
    "collapsed": false
   },
   "outputs": [],
   "source": [
    "def num_aff_pop(in12, ai):\n",
    "    lst = [x for x in (data2012[0][0] - in12*ai < 0)]\n",
    "    xlst = [x for i, x in enumerate(lst) if x == True]    \n",
    "    return len(xlst)"
   ]
  },
  {
   "cell_type": "code",
   "execution_count": 38,
   "metadata": {
    "collapsed": true
   },
   "outputs": [],
   "source": [
    "# area given braket in given year\n",
    "def a_aff_pop(in12, ai):\n",
    "    if True in (data2012[0][0] - in12*ai < 0):\n",
    "        lst = [x for x in (data2012[0][0] - in12*ai < 0)]\n",
    "        indx = [i for i, x in enumerate(lst) if x == True]\n",
    "        return [area_2012[x] for x in indx]"
   ]
  },
  {
   "cell_type": "code",
   "execution_count": 39,
   "metadata": {
    "collapsed": true
   },
   "outputs": [],
   "source": [
    "lowest12 = in_df['Lowest Income'][5]"
   ]
  },
  {
   "cell_type": "code",
   "execution_count": 45,
   "metadata": {
    "collapsed": false
   },
   "outputs": [
    {
     "name": "stdout",
     "output_type": "stream",
     "text": [
      "2.5 times the income:\n",
      "median income can afford: 0 area: None\n",
      "low income can afford: 0 area: None\n",
      "lowest income can afford: 0 area: None\n",
      "3 times the income:\n",
      "median income can afford: 1 area: ['National_City']\n",
      "low income can afford: 0 area: None\n",
      "lowest income can afford: 0 area: None\n",
      "3.5 times the income:\n",
      "median income can afford: 8 area: ['Oceanside', 'Vista', 'National_City', 'Chula_Vista', 'Spring_Valley', 'Lemon_Grove', 'El_Cajon', 'Escondido']\n",
      "low income can afford: 1 area: ['National_City']\n",
      "lowest income can afford: 0 area: None\n",
      "4 times the income:\n",
      "median income can afford: 17 area: ['Oceanside', 'Oceanside', 'Vista', 'National_City', 'Chula_Vista', 'Chula_Vista', 'Spring_Valley', 'Lemon_Grove', 'La_Mesa', 'El_Cajon', 'El_Cajon', 'El_Cajon', 'Lakeside', 'Poway', 'Escondido', 'Escondido', 'Escondido']\n",
      "low income can afford: 6 area: ['Oceanside', 'Vista', 'National_City', 'Chula_Vista', 'Spring_Valley', 'Lemon_Grove']\n",
      "lowest income can afford: 0 area: None\n",
      "4.5 times the income:\n",
      "median income can afford: 24 area: ['Oceanside', 'Oceanside', 'Oceanside', 'Vista', 'National_City', 'Chula_Vista', 'Chula_Vista', 'Chula_Vista', 'Chula_Vista', 'Spring_Valley', 'Spring_Valley', 'Lemon_Grove', 'La_Mesa', 'El_Cajon', 'El_Cajon', 'El_Cajon', 'Santee', 'Lakeside', 'Poway', 'Escondido', 'Escondido', 'Escondido', 'Valley_Center', 'Fallbrook']\n",
      "low income can afford: 14 area: ['Oceanside', 'Vista', 'National_City', 'Chula_Vista', 'Chula_Vista', 'Spring_Valley', 'Lemon_Grove', 'La_Mesa', 'El_Cajon', 'El_Cajon', 'Lakeside', 'Poway', 'Escondido', 'Escondido']\n",
      "lowest income can afford: 0 area: None\n"
     ]
    }
   ],
   "source": [
    "# for 2.5 times more no one can afford anything \n",
    "ais = [2.5, 3, 3.5, 4, 4.5]\n",
    "for ai in ais:\n",
    "    print(str(ai) + \" times the income:\")\n",
    "    print('median income can afford: '+ str(num_aff_pop(med12, ai)) + \" area: \" + str(a_aff_pop(med12, ai)))\n",
    "    print('low income can afford: '+ str(num_aff_pop(low12, ai)) + \" area: \" + str(a_aff_pop(low12, ai)))\n",
    "    print('lowest income can afford: '+ str(num_aff_pop(lowest12, ai)) + \" area: \" + str(a_aff_pop(lowest12, ai)))"
   ]
  },
  {
   "cell_type": "code",
   "execution_count": null,
   "metadata": {
    "collapsed": true
   },
   "outputs": [],
   "source": []
  }
 ],
 "metadata": {
  "kernelspec": {
   "display_name": "Python 3",
   "language": "python",
   "name": "python3"
  },
  "language_info": {
   "codemirror_mode": {
    "name": "ipython",
    "version": 3
   },
   "file_extension": ".py",
   "mimetype": "text/x-python",
   "name": "python",
   "nbconvert_exporter": "python",
   "pygments_lexer": "ipython3",
   "version": "3.6.0"
  }
 },
 "nbformat": 4,
 "nbformat_minor": 2
}
