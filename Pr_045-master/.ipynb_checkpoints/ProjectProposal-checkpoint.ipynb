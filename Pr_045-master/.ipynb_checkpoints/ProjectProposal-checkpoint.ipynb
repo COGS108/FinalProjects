{
 "cells": [
  {
   "cell_type": "markdown",
   "metadata": {},
   "source": [
    "# COGS 108 - Assignment 4: Project Proposal"
   ]
  },
  {
   "cell_type": "markdown",
   "metadata": {},
   "source": [
    "## Important\n",
    "\n",
    "- Make sure all group member (3-5 people) are listed in the group members section.\n",
    "- ONE, and only one, member of your group should upload this notebook to TritonED. \n",
    "- Each member of the group will receive the same grade on this assignment. \n",
    "- Keep the file name the same: submit the file 'A4_ProjectProposal.ipynb'"
   ]
  },
  {
   "cell_type": "markdown",
   "metadata": {},
   "source": [
    "## Overview"
   ]
  },
  {
   "cell_type": "markdown",
   "metadata": {},
   "source": [
    "Read the project description, and detailed instructions for this assignment, in the 'A4_ProjectOutlineAndProposal' pdf."
   ]
  },
  {
   "cell_type": "markdown",
   "metadata": {},
   "source": [
    "## Group Members: Fill in the Student ID's of each group member here\n",
    "- A11968194\n",
    "- A12298791\n",
    "- A11971176\n",
    "- A11963932\n",
    "- A12423030 \n",
    "- A12045305\n"
   ]
  },
  {
   "cell_type": "markdown",
   "metadata": {},
   "source": [
    "### Research Question\n",
    "\n",
    "What is your research question? (1-2 sentences)"
   ]
  },
  {
   "cell_type": "markdown",
   "metadata": {},
   "source": [
    "*What is the true monetary value of public parks to the surrounding community?*"
   ]
  },
  {
   "cell_type": "markdown",
   "metadata": {},
   "source": [
    "### Hypothesis\n",
    "\n",
    "What is your prediction (2-3 sentences)"
   ]
  },
  {
   "cell_type": "markdown",
   "metadata": {},
   "source": [
    "*The true monetary value of public parks greatly exceeds the actual cost of land allocation and construction. This value will vary based on location and park features, but data driven estimates of this value will make it easier for cities to justify park construction costs and choose optimal locations.*"
   ]
  },
  {
   "cell_type": "markdown",
   "metadata": {},
   "source": [
    "### Dataset(s)\n",
    "\n",
    "What data will you use to answer your question? Describe the dataset in terms of number of observations, what kind of features it contains, etc. You must use at least one dataset containing at least approximately 1000 observations (if your data are smaller but you feel they are sufficient, email Prof. Voytek). You are welcome (and in fact recommended) to find multiple datasets! If you do so, describe each one, and briefly explain how you will combine them together. "
   ]
  },
  {
   "cell_type": "markdown",
   "metadata": {},
   "source": [
    "\n",
    "- Dataset Name: Park Locations (San Diego)\n",
    "- Link to the dataset:https://data.sandiego.gov/datasets/park-locations/\n",
    "- Number of observations: 258\n",
    "- This dataset contains park locations, size, and basic content features (playgrounds, etc). The dataset is a SHP file, (common GIS format), so we need to learn pyshp to interpret it. This will serve as our index of all park locations, which we will correlate all other datasets back to (eventually comparing city data from areas bordering parks / areas far from parks).\n",
    "\n",
    "- Dataset Name: Zillow API\n",
    "- Link to the dataset: https://www.zillow.com/howto/api/APIOverview.htm\n",
    "- Number of observations: Number of observations is dependent on areas included in investigation but in San Diego County there are ~1,000,000\n",
    "- Description: This dataset contains “zestimates” of the monetary values of properties in specified areas. It also contains many details about all of the properties themselves. \n",
    "- Plan: We plan to use this data to compare different properties that have similar features but are located different distances from parks to estimate the value public parks add to the properties.\n",
    "\n",
    "- Dataset Name: Health benefits datasets\n",
    "- Link to the dataset: http://www.sandiegocounty.gov/content/dam/sdc/hhsa/programs/phs/CHS/CHIS_Profiles/CHIS_Health_%20Profile_Tables_Adults_4_2014.pdf The above are health survey results from http://www.sandiegocounty.gov/content/sdc/hhsa/programs/phs/community_health_statistics/regional-community-data.html\n",
    "- Number of observations: approximately 200\n",
    "- Description: This San Diego County Public Health dataset gives survey results of adults on General Health and Disability, categorized by year and the different regions of San Diego, from 2001 to 2012. It also provides data on heart disease and stroke, diabetes, asthma, cancer, vaccines, women’s health, behavioral health, exercise, weight, nutrition and food security, and insurance. \n",
    "- Plan: We can use this data in a heat map to compare survey health ratings to the number of parks per region\n",
    "\n",
    "- Dataset Name: Environmental Benefits \n",
    "- Link to the dataset: https://data.sandiego.gov/datasets/solar-permits/ and https://www.sandiego.gov/environmental-services/recycling/centers/parkrecycle\n",
    "- Number of observations: 9103 permits issued in 2016, 943 permits issued in 2015\n",
    "- Description: Solar permits issued and recycling centers at parks.\n",
    "- Plan: Use to find environmental impact of parks find the economic value associated with them.\n",
    "\n",
    "- Dataset Name: Safety / police activity\n",
    "- Link to the dataset: https://data.sandiego.gov/datasets/police-beats/ and https://data.sandiego.gov/datasets/police-calls-for-service/ and http://data.sandiegodata.org/dataset/clarinova_com-crime-incidents-casnd-7ba4-extract\n",
    "- Number of observations: 128 police beats, ~586,000 dispatches in 2016\n",
    "- Description: The first link provides a shapefile and csv file of the police beats of San Diego. The second link provides csv files for the police calls for service over the past 3 years. \n",
    "- Plan: We will use the police beats as the regional locations to base our heat maps and to organize our data. The police calls will be represented as a heat map for further use in our data analysis. These dispatches cost the government money and perhaps parks may have some effect on the frequency of these dispatches.\n",
    "\n",
    "- Dataset Name: Community programs / sports leagues\n",
    "- Link to the dataset: General recreation programs https://apm.activecommunities.com/sdparkandrec/Activity_Search?ActivityCategoryID=2&isSearch=true&applyFiltersDefaultValue=true  Sports programs: https://apm.activecommunities.com/sdparkandrec/Activity_Search?ActivityCategoryID=1&isSearch=true&applyFiltersDefaultValue=true\n",
    "- Number of observations: 497 programs in General Recreation, 932 programs in Sports\n",
    "- Description: These are datasets from The City of San Diego Parks and Recreation Department. They detail information about different general recreation and sports programs available in parks across San Diego County, with information about gender, days, dates, locations, and fees. \n",
    "- Plan: The data are in tables that can be toggled based on user preferences, and will need to be scraped into csv format for use. This data will be presented as a heat map of locations of programs available throughout the regions of San Diego, for further use in our data analysis. \n"
   ]
  },
  {
   "cell_type": "markdown",
   "metadata": {},
   "source": [
    "### Background & Prior Work\n",
    "\n",
    "Why is this question of interest, what background information led you to your hypothesis, and why is this important?\n",
    "\n",
    "Find some relevant prior work, and reference them. Even if you think you have a totally novel question, find the most similar prior work you can, and discuss how it relates to your project. \n",
    "\n",
    "References can be research publications, but they need not be: blogs, github repositories, company websites, etc., are viable references if they are relevant to your project.\n",
    "\n",
    "(2-3 paragraphs, including at least 2 references)"
   ]
  },
  {
   "cell_type": "markdown",
   "metadata": {},
   "source": [
    "San Diego is a fast expanding city. As more people move into the city, the government must decide whether or not to install more public parks or to allow for more commercial and urban expansion. This project would provide a more accurate gauge of the worth of a public park and help governments make more informed decisions about whether or not to add public parks. It could also provide assessments of the worth of already existing parks, and that value could be used to decide how much funding to budget for the maintenance of the parks. Positive personal experiences with many community parks and spaces growing up has led us to our hypothesis that the true value of public parks greatly exceeds the actual monetary cost of building them. This is important because it will provide a financial incentive for governments to install more parks.\n",
    "\n",
    "There have been multiple previous studies that have attempted to put a value on public parks and park systems. The second reference listed below gives a number value for the return on investment San Diego receives from its parks. We used these references to get an idea of what factors contribute to the value of a park.\n",
    "\n",
    "References:\n",
    "\n",
    "1) http://www.designcouncil.org.uk/sites/default/files/asset/document/%2Athe-real-value-of-park-assets.pdf \n",
    "\n",
    "2) http://cloud.tpl.org/pubs/ccpe-sandiego-parkvalue-rpt.pdf\n",
    "\n",
    "3) http://www.tandfonline.com/doi/pdf/10.1080/13606719.2014.885713 \n",
    "\n",
    "4) http://cloud.tpl.org/pubs/ccpe-econvalueparks-rpt.pdf "
   ]
  },
  {
   "cell_type": "markdown",
   "metadata": {},
   "source": [
    "### Proposed Methods\n",
    "\n",
    "What methods will you use to analyze your data?\n",
    "\n",
    "- How 'clean' is the data? To the extent that it requires cleaning, how will you do so?\n",
    "- How will you analyze the data? Be as specific as you can. Briefly mention any pre-processing steps that are required for your methods (for example, checking data distributions and performing any transformations that may be required). Include a brief outline of how you will apply your chosen method(s). \n",
    "- What do you plan to report? Briefly mention any key visualizations you plan to create, and/or the kind of result you will be able to report that addresses your question (this could be, for example, the outcome of some statistical test(s), prediction error on a model, a model fit parameter, etc.).\n",
    "- Include a list of packages you expect to use for you project. If you plan to use packages we have not used in class, add a very brief description about them (a few words is sufficient). "
   ]
  },
  {
   "cell_type": "markdown",
   "metadata": {},
   "source": [
    "*Fill in your proposed methods information here:*\n",
    "\n",
    "*Data Cleaning (2-3 sentences)*\n",
    "Cleaning: The data we will use in this project comes from a wide range of sources. Some of the sources are curated city datasets, which seem to have fairly clean data. Other sources include web-scraping and web-APIs. We expect to encounter a lot of dirty data from our scraped sources. We will toss out any text based data and stick with strictly defined numeric data like housing costs in dollars and Yelp stars as ints. This will speed up the process and allow us to use more data sources, balancing the effect of ignoring some subjective data.\n",
    "\n",
    "*Data Analysis (1-2 paragraphs)*\n",
    "Analyzing: We will be analyzing where current parks are located in San Diego and derive a formula to determine their value, based on various attributes, such as health benefits, environment benefits, and police dispatches.\n",
    "\n",
    "- For each collected and cleaned dataset, we will need to map the data to a uniform spatial scope (i.e. look at all data aggregated on zip-code vs by longitude and latitude).\n",
    "- Then we need to map each dataset to monetary value (i.e. cost of police dispatches, health care savings of decreased obesity).\n",
    "- Next, we will calculate the correlation between park density in a region and each feature’s money value in that region. We will call the correlation value wx for the correlation between park density and the money value of feature x.\n",
    "- Finally, we can define the regional values of parks as V = Σx wxvx . This will account for negative correlations as well as positive (i.e. parks might be a hotspot for crime, increasing the cost of police dispatches to the area, resulting in a negative correlation)\n",
    "\n",
    "*What to report (2-3 sentences)*\n",
    "When reporting, some key insights to keep in mind are the resulting equations that we used to value parks. We will be using many features that can all contribute positively or negatively to the value of parks. Some may have strong correlations with the presence of parks, and others will not. So, it will be interesting to report the correlations of our different features with park presence, and how much each aspect affects park value.\n",
    "Another main reporting goal is a predictor for new park value based on location. This would allow the county of San Diego to make more informed decisions on where parks would provide the most value, and further justify construction costs. This predictor can be presented in real time, and we would like to generate a heatmap of park value over the map of San Diego to report as a static visualization.\n",
    "\n",
    "Packages we plan to use:\n",
    "\n",
    "- pyshp\n",
    "- numpy\n",
    "- pandas\n",
    "- sklearn"
   ]
  },
  {
   "cell_type": "markdown",
   "metadata": {},
   "source": [
    "### Discussion\n",
    "\n",
    "What are the pitfalls and potential confounds of your data and/or methods? For example, how might biases in your data sources or analyses influence your interpretations? What will you do if you methods don't work and/or your hypotheses are wrong?\n",
    "\n",
    "(2-3 paragraphs)"
   ]
  },
  {
   "cell_type": "markdown",
   "metadata": {},
   "source": [
    "   We are focusing our analysis on parks within the San Diego region, and features of surrounding areas in order to accurately quantify the monetary value of establishing new parks. We will be looking at locations, housing costs, and other amenities around existing parks. There currently exists only 285 parks in San Diego county which is a significantly smaller dataset. However, observations from other data sets such as police activity (100,000) and housing prices (10,000) offer many observations that can be used in our analysis. The smaller sample sizes for specific features may slightly skew our overall interpretations of the influence each feature has. \n",
    "\n",
    "   Also, because we are collecting data from a variety of different sources, there may be slight discrepancies and lack of overlap in the time frames that each set of data is collected. For example, the data on housing information may come from just 2015-2017 while the police activity data that we have gathered spans 2007-2013. Datasets from a smaller time frame may be more biased because it would be easily influenced by the specific time period. \n",
    "\n",
    "   Our plan is to use our analysis of the data collected to accurately add monetary value to the parks in San Diego county. Biased data or smaller sample sizes may lead to incorrect or flawed outcomes. Since we are using multiple different datasets, there is a better chance that one bad dataset won't completely skew the outcome. If our hypothesis is wrong, it is possible that there are other more important features that we did not choose to analyze that may have a greater influence on the value a park can add to a region. "
   ]
  }
 ],
 "metadata": {
  "kernelspec": {
   "display_name": "Python 3",
   "language": "python",
   "name": "python3"
  },
  "language_info": {
   "codemirror_mode": {
    "name": "ipython",
    "version": 3
   },
   "file_extension": ".py",
   "mimetype": "text/x-python",
   "name": "python",
   "nbconvert_exporter": "python",
   "pygments_lexer": "ipython3",
   "version": "3.6.1"
  }
 },
 "nbformat": 4,
 "nbformat_minor": 2
}
