{
 "cells": [
  {
   "cell_type": "code",
   "execution_count": null,
   "metadata": {
    "collapsed": true
   },
   "outputs": [],
   "source": [
    "%matplotlib inline\n",
    "\n",
    "import numpy as np\n",
    "import pandas as pd\n",
    "import matplotlib.pyplot as plt\n",
    "from beat_from_coord import *"
   ]
  },
  {
   "cell_type": "code",
   "execution_count": null,
   "metadata": {
    "collapsed": false
   },
   "outputs": [],
   "source": [
    "df_health = pd.read_csv('data/health/healthDataUpdated.csv')\n",
    "location = df_health.iloc[0]['Region']\n",
    "lat = float(location[:-14])\n",
    "lon = float(location.split(\",\",1)[1])\n",
    "    #df_health[index]['Region'] = beat_from_coord(lat, lon)\n",
    "#df_health.set_value(0, 'Region', beat_from_coord(lat, lon))\n",
    "lat\n"
   ]
  },
  {
   "cell_type": "code",
   "execution_count": null,
   "metadata": {
    "collapsed": false,
    "scrolled": true
   },
   "outputs": [],
   "source": [
    "for index, row in df_health.iterrows():\n",
    "    location = df_health.iloc[index]['Region']\n",
    "    lat = float(location[:-13])\n",
    "    lon = float(location.split(\",\",1)[1])\n",
    "    #df_health[index]['Region'] = beat_from_coord(lat, lon)\n",
    "    df_health.set_value(index, 'Region', beat_from_coord(lat, lon))"
   ]
  },
  {
   "cell_type": "code",
   "execution_count": null,
   "metadata": {
    "collapsed": false
   },
   "outputs": [],
   "source": [
    "df_health"
   ]
  },
  {
   "cell_type": "code",
   "execution_count": null,
   "metadata": {
    "collapsed": true
   },
   "outputs": [],
   "source": []
  }
 ],
 "metadata": {
  "kernelspec": {
   "display_name": "Python 3",
   "language": "python",
   "name": "python3"
  },
  "language_info": {
   "codemirror_mode": {
    "name": "ipython",
    "version": 3
   },
   "file_extension": ".py",
   "mimetype": "text/x-python",
   "name": "python",
   "nbconvert_exporter": "python",
   "pygments_lexer": "ipython3",
   "version": "3.6.0"
  }
 },
 "nbformat": 4,
 "nbformat_minor": 2
}
