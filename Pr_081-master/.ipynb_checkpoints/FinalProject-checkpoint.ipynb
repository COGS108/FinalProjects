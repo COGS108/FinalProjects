{
 "cells": [
  {
   "cell_type": "markdown",
   "metadata": {},
   "source": [
    "## COGS 108 Final Project"
   ]
  },
  {
   "cell_type": "markdown",
   "metadata": {},
   "source": [
    "## Introduction and Background"
   ]
  },
  {
   "cell_type": "markdown",
   "metadata": {},
   "source": [
    "Research Question: Are universities worth the opportunity cost? Is going to college better than just having a high school degree?  \n",
    "\n",
    "Hypothesis: We predict that we are going to see a positive correlation between opportunity cost and salaries, and that going to college will be worth it compared to just having a high school degree, which we will calculate by creating a \"worth it factor\" variable.\n",
    "\n",
    "Our hypothesis was based on real-world examples of successful people whose alma mater is a \"top\" university or Ivy league school. We also personally know \"not-so-successful\" individuals that did continue on to institution for higher education. There are also various stereotypes or tropes that conflate success or higher salaries with a higher education. Therefore, my group would like to analyze any correlations between salaries of people on various walks of life, and their levels of education. Our group is focused on determining these correlations on our own, rather than reading it on a random, popular news website.\n",
    "\n",
    "We’re interested in examining whether or not college education is “worth it” in various different ways. For now, we settled on time and cost as those are the two main factors that go into receiving a college education, setting potential waste of time and money as the opportunity cost of going to college. Our inspiration came when we were brainstorming social related topics and came across someone’s kaggle project exploring the college scorecard dataset (link below). We realized that the wide ranging variables available in this dataset can be used to examine relations between lots of factors that we care about as college students: potential future salary, tuition costs, race and gender differences in salary, and more that’s yet been uncovered. Along our exploration, we found a new dataset from NCES that has salary based on educational degree, including high school, so we explored this dataset more to calculate the worth-itness since we can now compare the college scorecard data and the NCES data.\n",
    "\n",
    "Additionally, we’re interested in finding ways to create rankings that matter more to college students, also in hopes to answer the question whether or not college is worth it, and whether or not ranking truly matters. For example, the article on the economist used data to visualize a ranking of college based on the % return of having a degree. In the article, it states that “It does not compare graduates’ earnings to what they would have earned, had they skipped college. (That number is unknowable.)”, but maybe we can find an estimate based on other datasets we find of salaries from people who did not complete college educations. It could also be interesting to find data on online educations (to be done), as it is becoming a more popular option for accessible and affordable education, and is continuously rising in quality.\n",
    "(note: we did not get to this part)\n",
    "\n",
    "\n",
    "References (include a link): <br>\n",
    "1)\thttps://collegescorecard.ed.gov/ <br>\n",
    "2)\thttps://www.kaggle.com/benhamner/exploring-the-us-college-scorecard-data/notebook <br>\n",
    "3)  http://www.economist.com/news/united-states/21600131-too-many-degrees-are-waste-money-return-higher-education-would-be-much-better <br>"
   ]
  },
  {
   "cell_type": "markdown",
   "metadata": {},
   "source": [
    "## Group Members: Fill in the Student ID's of each group member here\n",
    "- A12047594\n",
    "- A12027785\n",
    "- A14186529\n",
    "- A92133691"
   ]
  },
  {
   "cell_type": "markdown",
   "metadata": {
    "collapsed": true
   },
   "source": [
    "## Data Description\n",
    "\n",
    "Data on college scorecards comes from:  \n",
    "https://catalog.data.gov/dataset/college-scorecard  \n",
    "  \n",
    "This data set contains data collected from over 7,000 higher education institutions within the United States. It provides information including, but not limited to, their undergraduate profile, average SAT scores, and tuition.  \n",
    "  \n",
    "Data on incomes of workers age 25 - 34 years old comes from:  \n",
    "https://nces.ed.gov/programs/digest/d15/tables/dt15_502.30.asp  \n",
    "  \n",
    "This data set contains data of the median annual earnings of full-time year-round workers 25 to 34 years old and full-time year-round workers as a percentage of the labor force, by sex, race/ethnicity, and educational attainment (1995 through 2014)."
   ]
  },
  {
   "cell_type": "markdown",
   "metadata": {},
   "source": [
    "## Data Cleaning and Pre-Processing"
   ]
  },
  {
   "cell_type": "markdown",
   "metadata": {},
   "source": [
    "We imported the standard modules that we have been using throughout the the quarter, Pandas and Numpy, along with myplot to plot our data."
   ]
  },
  {
   "cell_type": "code",
   "execution_count": 4,
   "metadata": {
    "collapsed": true
   },
   "outputs": [],
   "source": [
    "import numpy as np\n",
    "from pandas import *\n",
    "import matplotlib.pyplot as plt\n",
    "import patsy\n",
    "import statsmodels.api as sm"
   ]
  },
  {
   "cell_type": "markdown",
   "metadata": {},
   "source": [
    "This excel file contains our data from college scorecard. We performed minor cleaning outside of this notebook due to the large file size. We removed almost every row that was not relevant to our research question, which significantly reduced the amount of data we were going to work with."
   ]
  },
  {
   "cell_type": "code",
   "execution_count": 5,
   "metadata": {
    "collapsed": true
   },
   "outputs": [],
   "source": [
    "#import the data from college scorecard which includes data from most recent year\n",
    "df = read_excel('Most Recent.xlsx')\n",
    "df2 = read_excel('NCESdata.xlsx') # data pre-cleaned in exel"
   ]
  },
  {
   "cell_type": "markdown",
   "metadata": {},
   "source": [
    "From the NCES dataset, we grab only the columns that contain ACTUAL relevant earning data."
   ]
  },
  {
   "cell_type": "code",
   "execution_count": 6,
   "metadata": {
    "collapsed": true
   },
   "outputs": [],
   "source": [
    "# cleaning NCES data\n",
    "df2 = df2.iloc[:,[0,1,3,5,7,9,11,13,15,17,19,21]] # removing columns for standard deviations"
   ]
  },
  {
   "cell_type": "markdown",
   "metadata": {},
   "source": [
    "The rest of the data cleaning for the College Scorecard data took place in our notebook. Initially, there were two columns regarding tuition, one for public institutions and one for private institutions. Each university only had stats on tuition for one of these columns, as a college cannot be both public and private. For each university, the column that contained no tuition data was NaN. Therefore, to make our data easier to work with, we consolidated the two tuition columns into one, while removing the NaN data in the process. We then dropped the initial tuition columns, dropped the rest of the NaN's, and multiplied our tuition by 4, giving us the total cost of a 4-year education at each establishment. We also drop all rows in which the data was suppressed for privacy reasons and create a new dataframe."
   ]
  },
  {
   "cell_type": "code",
   "execution_count": 7,
   "metadata": {},
   "outputs": [],
   "source": [
    "#Data cleaning of college scorecard \n",
    "df.tuition = df['NPT4_PUB'].fillna(df['NPT4_PRIV']) # merge two columns of tuition\n",
    "df = df.assign(tuition = df.tuition.values) # assign the value to a new column\n",
    "df = df[df.tuition.isnull() == False] # clear all the null data in the tuition\n",
    "df = df.drop('NPT4_PUB' , 1) # drop the original column \n",
    "df = df.drop('NPT4_PRIV' , 1)\n",
    "df = df.dropna() # drop all null data \n",
    "df.tuition = df.tuition*4 #tuition by 4 years"
   ]
  },
  {
   "cell_type": "code",
   "execution_count": 8,
   "metadata": {},
   "outputs": [],
   "source": [
    "# drop all the data with privacy issue \n",
    "df_dropped = df[(df.MD_EARN_WNE_P10 != 'PrivacySuppressed') & (df.MD_EARN_WNE_P8 != 'PrivacySuppressed') & (df.MD_EARN_WNE_P6 != 'PrivacySuppressed') ]\n"
   ]
  },
  {
   "cell_type": "markdown",
   "metadata": {},
   "source": [
    "Now we calculate the median earnings for each 6, 8, and 10 years after entry. "
   ]
  },
  {
   "cell_type": "code",
   "execution_count": 9,
   "metadata": {},
   "outputs": [],
   "source": [
    "#sort the data by 6-year median earnings\n",
    "df_dropped = df_dropped.sort_values(by='MD_EARN_WNE_P6')"
   ]
  },
  {
   "cell_type": "markdown",
   "metadata": {},
   "source": [
    "Calculating the median for 6-year earnings."
   ]
  },
  {
   "cell_type": "code",
   "execution_count": 10,
   "metadata": {},
   "outputs": [
    {
     "name": "stdout",
     "output_type": "stream",
     "text": [
      "38900\n"
     ]
    }
   ],
   "source": [
    "# find median earning for six year after entry\n",
    "sum = 0\n",
    "mediansix = 0\n",
    "for i in range(0,len(df_dropped.UG)):\n",
    "    sum = sum + df.iloc[i,4]\n",
    "    if sum >df_dropped.UG.sum()/2:\n",
    "        mediansix = df.iloc[i,3]\n",
    "        break\n",
    "print(mediansix)\n"
   ]
  },
  {
   "cell_type": "code",
   "execution_count": 11,
   "metadata": {},
   "outputs": [],
   "source": [
    "#sort the data by 8-year median earnings\n",
    "df_dropped = df_dropped.sort_values(by='MD_EARN_WNE_P8')"
   ]
  },
  {
   "cell_type": "markdown",
   "metadata": {},
   "source": [
    "Calculating the median for 8-year earnings."
   ]
  },
  {
   "cell_type": "code",
   "execution_count": 12,
   "metadata": {},
   "outputs": [
    {
     "name": "stdout",
     "output_type": "stream",
     "text": [
      "44000\n"
     ]
    }
   ],
   "source": [
    "# find median earning for eight year after entry\n",
    "sum = 0\n",
    "medianeight = 0\n",
    "for i in range(0,len(df_dropped.UG)):\n",
    "    sum = sum+df.iloc[i,4]\n",
    "    if sum >df_dropped.UG.sum()/2:\n",
    "        medianeight = df.iloc[i,2]\n",
    "        break\n",
    "print(medianeight)"
   ]
  },
  {
   "cell_type": "code",
   "execution_count": 13,
   "metadata": {},
   "outputs": [],
   "source": [
    "#sort the data by 6-year median earnings\n",
    "df_dropped = df_dropped.sort_values(by='MD_EARN_WNE_P10')"
   ]
  },
  {
   "cell_type": "markdown",
   "metadata": {},
   "source": [
    "Calculating the median for 10-year earnings."
   ]
  },
  {
   "cell_type": "code",
   "execution_count": 14,
   "metadata": {},
   "outputs": [
    {
     "name": "stdout",
     "output_type": "stream",
     "text": [
      "48300\n"
     ]
    }
   ],
   "source": [
    "# find median earning for ten year after entry\n",
    "sum = 0\n",
    "medianten = 0\n",
    "for i in range(0,len(df_dropped.UG)):\n",
    "    sum = sum+df.iloc[i,4]\n",
    "    if sum >df_dropped.UG.sum()/2:\n",
    "        medianten = df.iloc[i,1]\n",
    "        break\n",
    "print(medianten)"
   ]
  },
  {
   "cell_type": "code",
   "execution_count": 15,
   "metadata": {},
   "outputs": [
    {
     "name": "stdout",
     "output_type": "stream",
     "text": [
      "Median earnings after 6 yrs: $38900\n",
      "Median earnings after 8 yrs: $44000\n",
      "Median earnings after 10 yrs: $48300\n"
     ]
    }
   ],
   "source": [
    "print(\"Median earnings after 6 yrs: $%d\" % mediansix)\n",
    "print(\"Median earnings after 8 yrs: $%d\" % medianeight)\n",
    "print(\"Median earnings after 10 yrs: $%d\" % medianten)"
   ]
  },
  {
   "cell_type": "markdown",
   "metadata": {},
   "source": [
    "## Data Visualization"
   ]
  },
  {
   "cell_type": "code",
   "execution_count": 4,
   "metadata": {
    "scrolled": true
   },
   "outputs": [
    {
     "data": {
      "image/png": "[encoded data removed]",
      "text/plain": [
       "<matplotlib.figure.Figure at 0x10c47fa20>"
      ]
     },
     "metadata": {},
     "output_type": "display_data"
    }
   ],
   "source": [
    "#distribution of four year tuition\n",
    "tuitionlist = df.tuition.tolist()\n",
    "n, bins, patches = plt.hist(tuitionlist, 25, normed=1, facecolor='green', alpha=0.75)\n",
    "f1 = plt.gcf()\n",
    "plt.show()"
   ]
  },
  {
   "cell_type": "code",
   "execution_count": 103,
   "metadata": {},
   "outputs": [],
   "source": [
    "# drop all the data with privacy issue \n",
    "df_dropped = df[(df.MD_EARN_WNE_P10 != 'PrivacySuppressed') & (df.MD_EARN_WNE_P8 != 'PrivacySuppressed') & (df.MD_EARN_WNE_P6 != 'PrivacySuppressed') ]\n"
   ]
  },
  {
   "cell_type": "code",
   "execution_count": 6,
   "metadata": {},
   "outputs": [
    {
     "data": {
      "image/png": "[encoded data removed]",
      "text/plain": [
       "<matplotlib.figure.Figure at 0x10ca93a20>"
      ]
     },
     "metadata": {},
     "output_type": "display_data"
    }
   ],
   "source": [
    "# distribution of median earnings six years after graduation\n",
    "sixmedianlist = df_dropped.MD_EARN_WNE_P6.tolist()\n",
    "n, bins, patches = plt.hist(sixmedianlist, 25, normed=1, facecolor='green', alpha=0.75)\n",
    "f2 = plt.gcf()\n",
    "plt.show()"
   ]
  },
  {
   "cell_type": "code",
   "execution_count": 7,
   "metadata": {},
   "outputs": [
    {
     "data": {
      "image/png": "[encoded data removed]",
      "text/plain": [
       "<matplotlib.figure.Figure at 0x10c7c1fd0>"
      ]
     },
     "metadata": {},
     "output_type": "display_data"
    }
   ],
   "source": [
    "# distribution of median earnings eight years after graduation\n",
    "eightmedianlist = df_dropped.MD_EARN_WNE_P8.tolist()\n",
    "n, bins, patches = plt.hist(eightmedianlist, 25, normed=1, facecolor='green', alpha=0.75)\n",
    "f3 = plt.gcf()\n",
    "plt.show()"
   ]
  },
  {
   "cell_type": "code",
   "execution_count": 8,
   "metadata": {},
   "outputs": [
    {
     "data": {
      "image/png": "[encoded data removed]",
      "text/plain": [
       "<matplotlib.figure.Figure at 0x10c763278>"
      ]
     },
     "metadata": {},
     "output_type": "display_data"
    }
   ],
   "source": [
    "# distribution of median earnings ten years after graduation\n",
    "tenmedianlist = df_dropped.MD_EARN_WNE_P10.tolist()\n",
    "n, bins, patches = plt.hist(tenmedianlist, 25, normed=1, facecolor='green', alpha=0.75)\n",
    "f4 = plt.gcf()\n",
    "plt.show()"
   ]
  },
  {
   "cell_type": "code",
   "execution_count": 9,
   "metadata": {},
   "outputs": [
    {
     "data": {
      "image/png": "[encoded data removed]",
      "text/plain": [
       "<matplotlib.figure.Figure at 0x10cb0c128>"
      ]
     },
     "metadata": {},
     "output_type": "display_data"
    }
   ],
   "source": [
    "#Calculate how much one earn between 6 years after graduation and 10 years after graduation\n",
    "df_dropped.fouryearsalary = df_dropped.MD_EARN_WNE_P6+2*df_dropped.MD_EARN_WNE_P8+df_dropped.MD_EARN_WNE_P10\n",
    "df_dropped.difference = df_dropped.fouryearsalary - df_dropped.tuition\n",
    "differencelist = df_dropped.difference.tolist()\n",
    "n, bins, patches = plt.hist(differencelist, 25, normed=1, facecolor='green', alpha=0.75)\n",
    "f5 = plt.gcf()\n",
    "plt.show()"
   ]
  },
  {
   "cell_type": "markdown",
   "metadata": {},
   "source": [
    "## Data Analysis and Results"
   ]
  },
  {
   "cell_type": "markdown",
   "metadata": {},
   "source": [
    "We created a \"worth-it-ness\" equation that represents the amount of years it takes for a graduated student to earn back all the opportunity cost. Since we made sure that the two datasets can be used together, we used the college tuition median (from college scorecard) and 4x the high school earning (from NCES, assuming college takes 4 years on average), and divided it by college earning minus high school earning (how much more you earn if you went to college).\n",
    "\n",
    "This means that the smaller variable worth is, the less time it takes to make college a worth-it experience in terms of paying back all of your opportunity cost."
   ]
  },
  {
   "cell_type": "code",
   "execution_count": 16,
   "metadata": {},
   "outputs": [
    {
     "name": "stdout",
     "output_type": "stream",
     "text": [
      "12.53673202614379\n",
      "The amount of time it takes to pay off opputunity costs is 12 years.\n"
     ]
    }
   ],
   "source": [
    "#Worth = (tuition+4 year of earning of high scholl graduates)/(college graduate earnings-HS graduate earnings)\n",
    "worth = (df_dropped.tuition.median()+4*33000)/(medianten-33000)\n",
    "print (worth)\n",
    "print(\"The amount of time it takes to pay off opputunity costs is %d years.\" % worth)"
   ]
  },
  {
   "cell_type": "markdown",
   "metadata": {},
   "source": [
    "By our calculations, it takes an estimated 12 years to pay off what you spend when continuing your education in the college level. However, that was for the median tuition overall and with 10 years. If we calculate the same value for each year, we can get a trend for this values change over time."
   ]
  },
  {
   "cell_type": "markdown",
   "metadata": {},
   "source": [
    "We then adjusted our worth-it-ness equation without tuition variable because we wanted to examine the college worth-it-ness throughout the years of 1995~2014, using just 4*high school earning as opportunity cost, and the difference between college and hs grad earning as the denominator still."
   ]
  },
  {
   "cell_type": "code",
   "execution_count": 98,
   "metadata": {},
   "outputs": [
    {
     "data": {
      "image/png": "[encoded data removed]",
      "text/plain": [
       "<matplotlib.figure.Figure at 0x1167d0e48>"
      ]
     },
     "metadata": {},
     "output_type": "display_data"
    },
    {
     "name": "stdout",
     "output_type": "stream",
     "text": [
      "5.45950864422\n"
     ]
    }
   ],
   "source": [
    "#worth value taking the formula (4*High school earnings)/(College Graduates earning - High School Graduates earning)\n",
    "worth1995 = 4*df2.iloc[2,1]/(df2.iloc[5,1]-df2.iloc[2,1])\n",
    "worth2000 = 4*df2.iloc[2,2]/(df2.iloc[5,2]-df2.iloc[2,2])\n",
    "worth2004 = 4*df2.iloc[2,3]/(df2.iloc[5,3]-df2.iloc[2,3])\n",
    "worth2005 = 4*df2.iloc[2,4]/(df2.iloc[5,4]-df2.iloc[2,4])\n",
    "worth2007 = 4*df2.iloc[2,5]/(df2.iloc[5,5]-df2.iloc[2,5])\n",
    "worth2009 = 4*df2.iloc[2,6]/(df2.iloc[5,6]-df2.iloc[2,6])\n",
    "worth2010 = 4*df2.iloc[2,7]/(df2.iloc[5,7]-df2.iloc[2,7])\n",
    "worth2011 = 4*df2.iloc[2,8]/(df2.iloc[5,8]-df2.iloc[2,8])\n",
    "worth2012 = 4*df2.iloc[2,9]/(df2.iloc[5,9]-df2.iloc[2,9])\n",
    "worth2013 = 4*df2.iloc[2,10]/(df2.iloc[5,10]-df2.iloc[2,10])\n",
    "worth2014 = 4*df2.iloc[2,11]/(df2.iloc[5,11]-df2.iloc[2,11])\n",
    "\n",
    "worthlist = [worth1995,worth2000,worth2004,worth2005,worth2007,worth2009,worth2010,worth2011,worth2012,worth2013,worth2014]\n",
    "xaxis = np.arange(1,12)\n",
    "plt.plot(xaxis,worthlist,\"o\")\n",
    "plt.show()"
   ]
  },
  {
   "cell_type": "markdown",
   "metadata": {},
   "source": [
    "The scatterplot above plots the worth-it-ness variable (years takes to earn back OC) throughout the years, and there is a visible slight negative correlation as time goes on (1995~2014) to the years it takes to earn back OC. This could mean that college is becoming more worth it than it was as time goes on.\n",
    "\n",
    "Let's check the trend for high school graduate earnings. \n",
    "\n"
   ]
  },
  {
   "cell_type": "code",
   "execution_count": 108,
   "metadata": {},
   "outputs": [
    {
     "data": {
      "image/png": "[encoded data removed]",
      "text/plain": [
       "<matplotlib.figure.Figure at 0x116779dd8>"
      ]
     },
     "metadata": {},
     "output_type": "display_data"
    }
   ],
   "source": [
    "#High school Graduation Earning list\n",
    "HS1995 = df2.iloc[2,1]\n",
    "HS2000 = df2.iloc[2,2]\n",
    "HS2004 = df2.iloc[2,3]\n",
    "HS2005 = df2.iloc[2,4]\n",
    "HS2007 = df2.iloc[2,5]\n",
    "HS2009 = df2.iloc[2,6]\n",
    "HS2010 = df2.iloc[2,7]\n",
    "HS2011 = df2.iloc[2,8]\n",
    "HS2012 = df2.iloc[2,9]\n",
    "HS2013 = df2.iloc[2,10]\n",
    "HS2014 = df2.iloc[2,11]\n",
    "\n",
    "HSlist = [HS1995,HS2000,HS2004,HS2005,HS2007,HS2009,HS2010,HS2011,HS2012,HS2013,HS2014]\n",
    "xaxis = np.arange(1,12)\n",
    "plt.plot(xaxis,HSlist,\"o\")\n",
    "plt.show()\n",
    "\n"
   ]
  },
  {
   "cell_type": "markdown",
   "metadata": {},
   "source": [
    "Another downward trend! So far, we have found that both the worth value and high school earnings have been steadily declining. Therefore, there may be a correlation.\n",
    "\n",
    "We know check the college earnings to see if it follows the same trend."
   ]
  },
  {
   "cell_type": "code",
   "execution_count": 109,
   "metadata": {},
   "outputs": [
    {
     "data": {
      "image/png": "[encoded data removed]",
      "text/plain": [
       "<matplotlib.figure.Figure at 0x116780b00>"
      ]
     },
     "metadata": {},
     "output_type": "display_data"
    }
   ],
   "source": [
    "#College Earnings(Considering Bachelor Degree)\n",
    "CE1995 = df2.iloc[5,1]\n",
    "CE2000 = df2.iloc[5,2]\n",
    "CE2004 = df2.iloc[5,3]\n",
    "CE2005 = df2.iloc[5,4]\n",
    "CE2007 = df2.iloc[5,5]\n",
    "CE2009 = df2.iloc[5,6]\n",
    "CE2010 = df2.iloc[5,7]\n",
    "CE2011 = df2.iloc[5,8]\n",
    "CE2012 = df2.iloc[5,9]\n",
    "CE2013 = df2.iloc[5,10]\n",
    "CE2014 = df2.iloc[5,11]\n",
    "\n",
    "CElist = [CE1995,CE2000,CE2004,CE2005,CE2007,CE2009,CE2010,CE2011,CE2012,CE2013,CE2014]\n",
    "xaxis = np.arange(1,12)\n",
    "plt.plot(xaxis,CElist,\"o\")\n",
    "plt.show()\n",
    "\n"
   ]
  },
  {
   "cell_type": "markdown",
   "metadata": {},
   "source": [
    "We see a slightly similar trend here, but how do both variables affect worth?\n",
    "\n",
    "To test this, we can run an OLS regression test and try to predict the worth from both College and HS earnings. This will allow us to determine which variable affects the worth value the most, therefore causing the decline in the first graph."
   ]
  },
  {
   "cell_type": "code",
   "execution_count": 111,
   "metadata": {},
   "outputs": [
    {
     "name": "stdout",
     "output_type": "stream",
     "text": [
      "                            OLS Regression Results                            \n",
      "==============================================================================\n",
      "Dep. Variable:                  Worth   R-squared:                       0.606\n",
      "Model:                            OLS   Adj. R-squared:                  0.563\n",
      "Method:                 Least Squares   F-statistic:                     13.87\n",
      "Date:                Tue, 13 Jun 2017   Prob (F-statistic):            0.00474\n",
      "Time:                        20:28:20   Log-Likelihood:                -1.4829\n",
      "No. Observations:                  11   AIC:                             6.966\n",
      "Df Residuals:                       9   BIC:                             7.762\n",
      "Df Model:                           1                                         \n",
      "Covariance Type:            nonrobust                                         \n",
      "==============================================================================\n",
      "                 coef    std err          t      P>|t|      [95.0% Conf. Int.]\n",
      "------------------------------------------------------------------------------\n",
      "Intercept     -1.7766      2.166     -0.820      0.433        -6.675     3.122\n",
      "HS             0.0002   6.69e-05      3.724      0.005      9.79e-05     0.000\n",
      "==============================================================================\n",
      "Omnibus:                        0.299   Durbin-Watson:                   1.748\n",
      "Prob(Omnibus):                  0.861   Jarque-Bera (JB):                0.302\n",
      "Skew:                           0.291   Prob(JB):                        0.860\n",
      "Kurtosis:                       2.435   Cond. No.                     7.59e+05\n",
      "==============================================================================\n",
      "\n",
      "Warnings:\n",
      "[1] Standard Errors assume that the covariance matrix of the errors is correctly specified.\n",
      "[2] The condition number is large, 7.59e+05. This might indicate that there are\n",
      "strong multicollinearity or other numerical problems.\n"
     ]
    },
    {
     "name": "stderr",
     "output_type": "stream",
     "text": [
      "/anaconda/lib/python3.6/site-packages/scipy/stats/stats.py:1327: UserWarning: kurtosistest only valid for n>=20 ... continuing anyway, n=11\n",
      "  \"anyway, n=%i\" % int(n))\n"
     ]
    }
   ],
   "source": [
    "#Run the OLS Regression test between Worth value and High school graduates earnings\n",
    "df_regression = DataFrame(\n",
    "                    { \"HS\" : HSlist,\n",
    "                      \"CE\" : CElist,\n",
    "                      \"Worth\" : worthlist},\n",
    "                      index = [1,2,3,4,5,6,7,8,9,10,11])\n",
    "\n",
    "outcome_1, predictors_1 = patsy.dmatrices('Worth ~ HS', df_regression)\n",
    "mod_1 = sm.OLS(outcome_1, predictors_1)\n",
    "res_1 = mod_1.fit()\n",
    "print(res_1.summary())"
   ]
  },
  {
   "cell_type": "markdown",
   "metadata": {},
   "source": [
    "This regression test gives us a value smaller than .05 and an R-squared value of 0.6, which indicates to us that High School earnings play a significant factor in determining worth.\n",
    "\n",
    "We can now test to see how much college earnings affect worth."
   ]
  },
  {
   "cell_type": "code",
   "execution_count": 112,
   "metadata": {},
   "outputs": [
    {
     "name": "stdout",
     "output_type": "stream",
     "text": [
      "                            OLS Regression Results                            \n",
      "==============================================================================\n",
      "Dep. Variable:                  Worth   R-squared:                       0.048\n",
      "Model:                            OLS   Adj. R-squared:                 -0.058\n",
      "Method:                 Least Squares   F-statistic:                    0.4504\n",
      "Date:                Tue, 13 Jun 2017   Prob (F-statistic):              0.519\n",
      "Time:                        20:28:23   Log-Likelihood:                -6.3439\n",
      "No. Observations:                  11   AIC:                             16.69\n",
      "Df Residuals:                       9   BIC:                             17.48\n",
      "Df Model:                           1                                         \n",
      "Covariance Type:            nonrobust                                         \n",
      "==============================================================================\n",
      "                 coef    std err          t      P>|t|      [95.0% Conf. Int.]\n",
      "------------------------------------------------------------------------------\n",
      "Intercept      2.7262      5.300      0.514      0.619        -9.262    14.715\n",
      "CE          6.712e-05      0.000      0.671      0.519        -0.000     0.000\n",
      "==============================================================================\n",
      "Omnibus:                        0.252   Durbin-Watson:                   0.956\n",
      "Prob(Omnibus):                  0.881   Jarque-Bera (JB):                0.411\n",
      "Skew:                           0.139   Prob(JB):                        0.814\n",
      "Kurtosis:                       2.095   Cond. No.                     1.96e+06\n",
      "==============================================================================\n",
      "\n",
      "Warnings:\n",
      "[1] Standard Errors assume that the covariance matrix of the errors is correctly specified.\n",
      "[2] The condition number is large, 1.96e+06. This might indicate that there are\n",
      "strong multicollinearity or other numerical problems.\n"
     ]
    },
    {
     "name": "stderr",
     "output_type": "stream",
     "text": [
      "/anaconda/lib/python3.6/site-packages/scipy/stats/stats.py:1327: UserWarning: kurtosistest only valid for n>=20 ... continuing anyway, n=11\n",
      "  \"anyway, n=%i\" % int(n))\n"
     ]
    }
   ],
   "source": [
    "#Run the OLS Regression test between Worth value and College graduates earnings\n",
    "outcome_2, predictors_2 = patsy.dmatrices('Worth ~ CE', df_regression)\n",
    "mod_2 = sm.OLS(outcome_2, predictors_2)\n",
    "res_2 = mod_2.fit()\n",
    "print(res_2.summary())"
   ]
  },
  {
   "cell_type": "markdown",
   "metadata": {},
   "source": [
    "With a p-value of .519 and an R-squared value of 0.0478, it doesn't look like College earnings affect worth all that much. \n",
    "\n",
    "From the results of these two OLS regression tests, we can see that high school earnings has a higher determining factor on than college earnings does. Additionally, there exists a steady decline in the earnings of strictly high school graduates and worth. Therefore, pursuing a college education is becoming increasingly more worth it."
   ]
  },
  {
   "cell_type": "markdown",
   "metadata": {},
   "source": [
    "## Conclusion/Discussion"
   ]
  },
  {
   "cell_type": "markdown",
   "metadata": {
    "collapsed": true
   },
   "source": [
    "Initially, we planned to only work with the college scorecard data set. However, we realized that we needed high school income data to gain further insights needed to find an answer to our research question. The NCES data set provided us with the incomes of high school graduates, but upon calculating the median earnings of college graduates from the college scorecard data set and the median earnings of college graduates from the NCES data set, we found that the NCES data had a higher median earnings of high school graduates--the correlations were not adding up. This mismatch happened due to the fact that the NCES data set included data from different years (despite accounting for inflation). This made the data set's median and mode inaccurate in relation to the college scorecard data set, which accounted for a different number of total students. \n",
    "  \n",
    "To remedy this, we calculated the median for 10 years after the college entries in the college score card data, which turned out to be around 28 years old. Since the NCES data set accounted for incomes between 25 to 34 year old workers and our new median for the college score card data set was 28 years old (the median between 25 to 34 years old), we were able to calculate new medians for both data sets that we could analyze.\n",
    "  \n",
    "From there, we created the following formula that would give us a \"worth it\" value:   \n",
    "Worth = (tuition + 4 year earnings of high school graduates) / (college graduate earnings - HS graduate earnings)\n",
    "    \n",
    "This formula gives us the number of years it would take to cover the opportunity cost of getting a particular (high school or college) degree. Using the formula to calculate the \"worth it\" values for both high school degrees and college degrees and then plotting such values, we were able to visualize our data and identify any trends or correlations. We saw that college graduate earnings had an ambiguous trend throughout the years, while high school graduates earned less and less as time progressed, with a clear negative correlation.\n",
    "\n",
    "We then ran an OLS Regression test between the \"worth it\" value and high school graduate earnings to see which factor contributes more to the \"worth it\" formula. From our results, we were able to see that high school graduate earnings had a higher influence on our equation, which means that the negative trend we saw on our worth-it graph was not because college graduates are earning more, but because HS graduates are earning less and less.\n",
    "\n",
    "So, are universities worth the opportunity cost?\n",
    "  \n",
    "Our data analysis results showed that high school graduate earnings have been declining since 1995, which is not quite enough to conclude that going to college is worth it, but still heavily insinuates that not going to college is less okay now than ever before. From the results of these two OLS regression tests, we can see that high school earnings has a higher determining factor on than college earnings does. Additionally, there exists a steady decline in the earnings of strictly high school graduates and worth. Therefore, pursuing a college education is becoming increasingly more worth it.\n"
   ]
  }
 ],
 "metadata": {
  "kernelspec": {
   "display_name": "Python 3",
   "language": "python",
   "name": "python3"
  },
  "language_info": {
   "codemirror_mode": {
    "name": "ipython",
    "version": 3
   },
   "file_extension": ".py",
   "mimetype": "text/x-python",
   "name": "python",
   "nbconvert_exporter": "python",
   "pygments_lexer": "ipython3",
   "version": "3.6.0"
  }
 },
 "nbformat": 4,
 "nbformat_minor": 2
}
